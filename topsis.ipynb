{
  "metadata": {
    "kernelspec": {
      "name": "ir",
      "display_name": "R",
      "language": "R"
    },
    "language_info": {
      "name": "R",
      "codemirror_mode": "r",
      "pygments_lexer": "r",
      "mimetype": "text/x-r-source",
      "file_extension": ".r",
      "version": "4.0.5"
    },
    "colab": {
      "name": "topsis.ipynb",
      "provenance": [],
      "include_colab_link": true
    },
    "gpuClass": "standard"
  },
  "nbformat_minor": 0,
  "nbformat": 4,
  "cells": [
    {
      "cell_type": "markdown",
      "metadata": {
        "id": "view-in-github",
        "colab_type": "text"
      },
      "source": [
        "<a href=\"https://colab.research.google.com/github/parvgarg9900/topsis/blob/main/topsis.ipynb\" target=\"_parent\"><img src=\"https://colab.research.google.com/assets/colab-badge.svg\" alt=\"Open In Colab\"/></a>"
      ]
    },
    {
      "cell_type": "markdown",
      "source": [
        "---\n",
        "# **Multi-criteria decision making (MCDM) using Topsis**\n",
        "---\n",
        "- MCDM refers to select the best choice, having multiple-conflicting-criteria.\n",
        "- Topsis helps to generate single score to make the decision\n",
        "\n",
        "### **Self learning resource**\n",
        "- Tutorial on Topsis **<a href=\"https://en.wikipedia.org/wiki/TOPSIS\" target=\"_blank\"> Click Here</a>**\n",
        "\n",
        "\n"
      ],
      "metadata": {
        "id": "xsVvMZdV2NCK"
      }
    },
    {
      "cell_type": "markdown",
      "source": [
        "---\n",
        "## **1.1 Installing topsis library**\n",
        "---"
      ],
      "metadata": {
        "id": "aA5v8sqBvBmy"
      }
    },
    {
      "cell_type": "code",
      "source": [
        "install.packages('topsis')"
      ],
      "metadata": {
        "_uuid": "5a066e3c-bbcd-44d1-b5ca-1ebe7bc54be1",
        "_cell_guid": "b1a50ab9-6daf-46cb-8adb-5ec1a94107ac",
        "jupyter": {
          "outputs_hidden": false
        },
        "execution": {
          "iopub.status.busy": "2022-07-03T15:25:12.484227Z",
          "iopub.execute_input": "2022-07-03T15:25:12.485765Z",
          "iopub.status.idle": "2022-07-03T15:25:28.122444Z"
        },
        "trusted": true,
        "colab": {
          "base_uri": "https://localhost:8080/"
        },
        "id": "cd__y922vBm2",
        "outputId": "b071336d-4404-4a7a-a0b0-a9304784ca3c"
      },
      "execution_count": 3,
      "outputs": [
        {
          "output_type": "stream",
          "name": "stderr",
          "text": [
            "Installing package into ‘/usr/local/lib/R/site-library’\n",
            "(as ‘lib’ is unspecified)\n",
            "\n"
          ]
        }
      ]
    },
    {
      "cell_type": "markdown",
      "source": [
        "---\n",
        "## **1.2 Import the library**\n",
        "---"
      ],
      "metadata": {
        "id": "PFZGmdcVvBm7"
      }
    },
    {
      "cell_type": "code",
      "source": [
        "library(topsis)"
      ],
      "metadata": {
        "_uuid": "d202d55d-794d-4414-b7a6-ec8ae7d6c92d",
        "_cell_guid": "f1f2ef93-39e3-4c32-bb5e-1d7e671a2644",
        "jupyter": {
          "outputs_hidden": false
        },
        "execution": {
          "iopub.status.busy": "2022-07-03T15:25:28.124907Z",
          "iopub.execute_input": "2022-07-03T15:25:28.126357Z",
          "iopub.status.idle": "2022-07-03T15:25:28.146639Z"
        },
        "trusted": true,
        "id": "e61rTaX2vBm8"
      },
      "execution_count": 4,
      "outputs": []
    },
    {
      "cell_type": "markdown",
      "source": [
        "---\n",
        "## **1.3 Download the Topsis-Dataset and upload to content drive**\n",
        "\n",
        "- **<a href=\"https://drive.google.com/drive/folders/1gkfVzqFfurRycF4Qh9OaLzrIPicKSxj8?usp=sharing\" target=\"_blank\"> Click Here</a>** for Dataset\n",
        "\n",
        "---"
      ],
      "metadata": {
        "id": "JwohCs39vBm_"
      }
    },
    {
      "cell_type": "markdown",
      "source": [
        "\n",
        "## **1.4 Read the dataset**\n",
        "---"
      ],
      "metadata": {
        "id": "OW4cP0u4yCFF"
      }
    },
    {
      "cell_type": "code",
      "source": [
        "mydata=read.csv('/content/sample_data/Topsis-Dataset.csv')\n",
        "mydata"
      ],
      "metadata": {
        "_uuid": "affe3387-ab90-45ea-845c-dfa84c74994a",
        "_cell_guid": "7e2d1105-9816-472c-8ba1-a340f4a5c326",
        "jupyter": {
          "outputs_hidden": false
        },
        "execution": {
          "iopub.status.busy": "2022-07-03T15:25:28.149057Z",
          "iopub.execute_input": "2022-07-03T15:25:28.150464Z",
          "iopub.status.idle": "2022-07-03T15:25:28.178352Z"
        },
        "trusted": true,
        "colab": {
          "base_uri": "https://localhost:8080/",
          "height": 193
        },
        "id": "DUEzfl2WvBnA",
        "outputId": "24032f66-0dc0-451b-b17a-982862455797"
      },
      "execution_count": 11,
      "outputs": [
        {
          "output_type": "stream",
          "name": "stderr",
          "text": [
            "Warning message in file(file, \"rt\"):\n",
            "“cannot open file '/content/sample_data/Topsis-Dataset.csv': No such file or directory”\n"
          ]
        },
        {
          "output_type": "error",
          "ename": "ERROR",
          "evalue": "Error in file(file, \"rt\"): cannot open the connection\n",
          "traceback": [
            "Error in file(file, \"rt\"): cannot open the connection\nTraceback:\n",
            "1. read.csv(\"/content/sample_data/Topsis-Dataset.csv\")",
            "2. read.table(file = file, header = header, sep = sep, quote = quote, \n .     dec = dec, fill = fill, comment.char = comment.char, ...)",
            "3. file(file, \"rt\")"
          ]
        }
      ]
    },
    {
      "cell_type": "markdown",
      "source": [
        "---\n",
        "## **1.5 Convert the dataset to Matrix**\n",
        "---"
      ],
      "metadata": {
        "id": "5zyzrToXvBnB"
      }
    },
    {
      "cell_type": "code",
      "source": [
        "d <- as.matrix(mydata[,-1]) # -1, drop 1st column\n",
        "d"
      ],
      "metadata": {
        "_uuid": "6efe8de2-e55c-4db6-ba2b-0c4e1b9d0dad",
        "_cell_guid": "30d53597-98b7-4aeb-9d88-375f55b9f343",
        "jupyter": {
          "outputs_hidden": false
        },
        "execution": {
          "iopub.status.busy": "2022-07-03T15:25:28.180769Z",
          "iopub.execute_input": "2022-07-03T15:25:28.182207Z",
          "iopub.status.idle": "2022-07-03T15:25:28.203551Z"
        },
        "trusted": true,
        "colab": {
          "base_uri": "https://localhost:8080/",
          "height": 106
        },
        "id": "BqmdotlVvBnB",
        "outputId": "ad631543-4e46-4404-e544-346ba6b875ae"
      },
      "execution_count": 10,
      "outputs": [
        {
          "output_type": "error",
          "ename": "ERROR",
          "evalue": "Error in eval(expr, envir, enclos): object 'mydata' not found\n",
          "traceback": [
            "Error in eval(expr, envir, enclos): object 'mydata' not found\nTraceback:\n",
            "1. as.matrix(mydata[, -1])"
          ]
        }
      ]
    },
    {
      "cell_type": "markdown",
      "source": [
        "---\n",
        "## **1.6 Assigning the impacts**\n",
        "---"
      ],
      "metadata": {
        "id": "FQiGjcqdvBnC"
      }
    },
    {
      "cell_type": "code",
      "source": [
        "i <- c(\"+\", \"+\", \"-\", \"+\")\n",
        "i"
      ],
      "metadata": {
        "_uuid": "5decaca5-4ec3-4bcd-8d22-a3c19a348c8a",
        "_cell_guid": "85e24367-9083-445b-a3a0-12d74a158155",
        "jupyter": {
          "outputs_hidden": false
        },
        "execution": {
          "iopub.status.busy": "2022-07-03T15:25:28.205883Z",
          "iopub.execute_input": "2022-07-03T15:25:28.207300Z",
          "iopub.status.idle": "2022-07-03T15:25:28.239570Z"
        },
        "trusted": true,
        "colab": {
          "base_uri": "https://localhost:8080/",
          "height": 34
        },
        "id": "QXxGJZZxvBnD",
        "outputId": "31ccd324-4325-47c2-ab17-cc93e7f48e9f"
      },
      "execution_count": 7,
      "outputs": [
        {
          "output_type": "display_data",
          "data": {
            "text/html": [
              "<style>\n",
              ".list-inline {list-style: none; margin:0; padding: 0}\n",
              ".list-inline>li {display: inline-block}\n",
              ".list-inline>li:not(:last-child)::after {content: \"\\00b7\"; padding: 0 .5ex}\n",
              "</style>\n",
              "<ol class=list-inline><li>'+'</li><li>'+'</li><li>'-'</li><li>'+'</li></ol>\n"
            ],
            "text/markdown": "1. '+'\n2. '+'\n3. '-'\n4. '+'\n\n\n",
            "text/latex": "\\begin{enumerate*}\n\\item '+'\n\\item '+'\n\\item '-'\n\\item '+'\n\\end{enumerate*}\n",
            "text/plain": [
              "[1] \"+\" \"+\" \"-\" \"+\""
            ]
          },
          "metadata": {}
        }
      ]
    },
    {
      "cell_type": "markdown",
      "source": [
        "---\n",
        "## **1.7 Assigning the weights**\n",
        "---"
      ],
      "metadata": {
        "id": "uE7G7ylWvBnE"
      }
    },
    {
      "cell_type": "code",
      "source": [
        "w <- c(1,1,1,1)\n",
        "w"
      ],
      "metadata": {
        "_uuid": "ed08c8d4-0991-4eb3-a265-c18193630956",
        "_cell_guid": "824777a1-8d67-4974-aa75-dce27dc537f9",
        "jupyter": {
          "outputs_hidden": false
        },
        "execution": {
          "iopub.status.busy": "2022-07-03T15:25:28.241799Z",
          "iopub.execute_input": "2022-07-03T15:25:28.243117Z",
          "iopub.status.idle": "2022-07-03T15:25:28.264988Z"
        },
        "trusted": true,
        "colab": {
          "base_uri": "https://localhost:8080/",
          "height": 34
        },
        "id": "A9BX7PiWvBnF",
        "outputId": "5803b5a8-5159-452a-fc05-8510f3908598"
      },
      "execution_count": 8,
      "outputs": [
        {
          "output_type": "display_data",
          "data": {
            "text/html": [
              "<style>\n",
              ".list-inline {list-style: none; margin:0; padding: 0}\n",
              ".list-inline>li {display: inline-block}\n",
              ".list-inline>li:not(:last-child)::after {content: \"\\00b7\"; padding: 0 .5ex}\n",
              "</style>\n",
              "<ol class=list-inline><li>1</li><li>1</li><li>1</li><li>1</li></ol>\n"
            ],
            "text/markdown": "1. 1\n2. 1\n3. 1\n4. 1\n\n\n",
            "text/latex": "\\begin{enumerate*}\n\\item 1\n\\item 1\n\\item 1\n\\item 1\n\\end{enumerate*}\n",
            "text/plain": [
              "[1] 1 1 1 1"
            ]
          },
          "metadata": {}
        }
      ]
    },
    {
      "cell_type": "markdown",
      "source": [
        "---\n",
        "## **1.8 Calling the topisis function**\n",
        "---"
      ],
      "metadata": {
        "id": "eu3Np3XmvBnG"
      }
    },
    {
      "cell_type": "code",
      "source": [
        "topsis(d, w, i)"
      ],
      "metadata": {
        "_uuid": "b1b42519-6c1f-41f1-9209-ec2fff912ec6",
        "_cell_guid": "e653392a-adc7-41b5-a5b3-cfd62b40d3b7",
        "jupyter": {
          "outputs_hidden": false
        },
        "execution": {
          "iopub.status.busy": "2022-07-03T15:25:28.268022Z",
          "iopub.execute_input": "2022-07-03T15:25:28.270850Z",
          "iopub.status.idle": "2022-07-03T15:25:28.304475Z"
        },
        "trusted": true,
        "colab": {
          "base_uri": "https://localhost:8080/",
          "height": 106
        },
        "id": "x7ry5J4uvBnG",
        "outputId": "5a6a86ad-6615-45b8-9499-557cd7ee160c"
      },
      "execution_count": 9,
      "outputs": [
        {
          "output_type": "error",
          "ename": "ERROR",
          "evalue": "Error in eval(expr, envir, enclos): object 'd' not found\n",
          "traceback": [
            "Error in eval(expr, envir, enclos): object 'd' not found\nTraceback:\n",
            "1. topsis(d, w, i)"
          ]
        }
      ]
    },
    {
      "cell_type": "markdown",
      "source": [
        "---\n",
        "## **2 Complete Code**\n",
        "---"
      ],
      "metadata": {
        "id": "N6OvLgPd5CM3"
      }
    },
    {
      "cell_type": "code",
      "source": [
        "library(topsis)\n",
        "mydata=read.csv('/content/sample_data/Topsis-Dataset.csv')\n",
        "d <- as.matrix(mydata[,-1]) # -1, drop 1st column\n",
        "i <- c(\"+\", \"+\", \"-\", \"+\")\n",
        "w <- c(1,1,2,0.5)\n",
        "topsis(d, w, i)"
      ],
      "metadata": {
        "_uuid": "b1b42519-6c1f-41f1-9209-ec2fff912ec6",
        "_cell_guid": "e653392a-adc7-41b5-a5b3-cfd62b40d3b7",
        "jupyter": {
          "outputs_hidden": false
        },
        "execution": {
          "iopub.status.busy": "2022-07-03T15:25:28.268022Z",
          "iopub.execute_input": "2022-07-03T15:25:28.270850Z",
          "iopub.status.idle": "2022-07-03T15:25:28.304475Z"
        },
        "trusted": true,
        "colab": {
          "base_uri": "https://localhost:8080/",
          "height": 193
        },
        "outputId": "29d6fd16-77b7-4c82-9015-6d6c543fcd4a",
        "id": "tJa2HiId5CM4"
      },
      "execution_count": 12,
      "outputs": [
        {
          "output_type": "stream",
          "name": "stderr",
          "text": [
            "Warning message in file(file, \"rt\"):\n",
            "“cannot open file '/content/sample_data/Topsis-Dataset.csv': No such file or directory”\n"
          ]
        },
        {
          "output_type": "error",
          "ename": "ERROR",
          "evalue": "Error in file(file, \"rt\"): cannot open the connection\n",
          "traceback": [
            "Error in file(file, \"rt\"): cannot open the connection\nTraceback:\n",
            "1. read.csv(\"/content/sample_data/Topsis-Dataset.csv\")",
            "2. read.table(file = file, header = header, sep = sep, quote = quote, \n .     dec = dec, fill = fill, comment.char = comment.char, ...)",
            "3. file(file, \"rt\")"
          ]
        }
      ]
    }
  ]
}